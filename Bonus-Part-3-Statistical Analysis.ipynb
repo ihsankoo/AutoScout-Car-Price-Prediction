{
 "cells": [
  {
   "attachments": {},
   "cell_type": "markdown",
   "metadata": {},
   "source": [
    "## 👀 Bonus Part 3: Statistical Analysis 👀\n",
    "This is the third bonus part of my capstone project. In this notebook, I'll discover more in-depth insights of autoscout data. Descriptive statistics are used to identify hidden patterns in the data, while inferential statistics are intended to extract inferences or hypotheses from a sample of large data. This type of statistical analysis is useful for making predictions about the population based on random samples of data.\n",
    "\n",
    "\n",
    "\n",
    "Python replaces a complex mathematical expression with the functions that are present in its libraries. It is fast and provides accurate knowledge about data which can be used to process further for predictions or classifications like problems. Statistical analysis is important to good decisions on data. Statistical analysis of data helps us to access effective data only with good efficiency. It helps us to decide an optimal path for data accessing and processing.\n",
    "\n",
    "**Descriptive Statistics:**\n",
    "\n",
    "Descriptive statistics are used to identifying hidden patterns in the data. It just describes the data through statistics. It doesn’t make any predictions about the data. Several methods are used to analyze descriptive statistics of data such as mean, median, mode, variance, and standard deviation. Descriptive statistics frequently use the following statistical measures to describe groups: \n",
    " - Central tendency : Use the mean or the median to locate the center of the dataset. This measure tells you where most values fall.\n",
    " - Dispersion: How far out from the center do the data extend? You can use the range or standard deviation to measure the dispersion. A low dispersion indicates that the values cluster more tightly around the center. Higher dispersion signifies that data points fall further away from the center. We can also graph the frequency distribution.\n",
    " - Skewness: The measure tells you whether the distribution of values is symmetric or skewed.\n",
    "\n",
    "**Inferential Statistics:**\n",
    "\n",
    "This type of statistical analysis is intended to extract inferences or hypotheses from a sample of large data. Prediction about the population is carried out from random samples of data. The prediction of the dependent variable based on the independent variable is carried out in inferential statistics. \n",
    "\n",
    "References\n",
    "<br>\n",
    "**[Difference between Descriptive and Inferential Statistics](https://statisticsbyjim.com/basics/descriptive-inferential-statistics/)**<br>\n",
    "**[Introduction to Statistical Analysis in Python](https://www.educba.com/statistical-analysis-in-python/)**\n",
    "\n",
    "<img src=https://i.ibb.co/ZMyccvG/statistical-tests.png width=\"500\" height=\"250\">\n",
    "\n",
    "**[Measure the correlation between numerical and categorical variables and the correlation between two categorical variables in Python: Chi-Square and ANOVA](http://www.sefidian.com/2021/07/02/measure-the-correlation-between-numerical-and-categorical-variables-and-the-correlation-between-two-categorical-variables-in-python-chi-square-and-anova/)**<br>\n",
    "**[Inferential Statistics: Data Analysis](https://towardsdatascience.com/inferential-statistics-data-analysis-e59adc75c6eb)**<br>\n",
    "**[Statistical Inference in Python using Pandas, NumPy](https://towardsdatascience.com/statistical-inference-in-pyhton-using-pandas-numpy-part-i-c2ac0320dffe)**\n",
    "\n",
    "<img src=https://i.ibb.co/mJCKMTw/rejection-area.png width=\"500\" height=\"250\">"
   ]
  },
  {
   "cell_type": "code",
   "execution_count": 3,
   "metadata": {},
   "outputs": [],
   "source": [
    "import numpy as np\n",
    "import pandas as pd\n",
    "import matplotlib.pyplot as plt\n",
    "import seaborn as sns\n",
    "from scipy import stats\n",
    "from scipy.stats.mstats import winsorize\n",
    "\n",
    "import requests\n",
    "import geopy\n",
    "from geopy.geocoders import Nominatim\n",
    "\n",
    "import warnings\n",
    "warnings.filterwarnings('ignore')\n",
    "warnings.warn(\"this will not show\")\n",
    "\n",
    "sns.set_style(\"whitegrid\")\n",
    "pd.set_option('display.float_format', lambda x: '%.3f' % x)"
   ]
  },
  {
   "cell_type": "code",
   "execution_count": 4,
   "metadata": {},
   "outputs": [],
   "source": [
    "df = pd.read_csv(\"C:/Users/ihsankoo/Desktop/Data Preprocessing/use-this-for-bonus-parts\")\n",
    "df0 =df.copy()"
   ]
  },
  {
   "cell_type": "code",
   "execution_count": 5,
   "metadata": {},
   "outputs": [
    {
     "data": {
      "text/html": [
       "<div>\n",
       "<style scoped>\n",
       "    .dataframe tbody tr th:only-of-type {\n",
       "        vertical-align: middle;\n",
       "    }\n",
       "\n",
       "    .dataframe tbody tr th {\n",
       "        vertical-align: top;\n",
       "    }\n",
       "\n",
       "    .dataframe thead th {\n",
       "        text-align: right;\n",
       "    }\n",
       "</style>\n",
       "<table border=\"1\" class=\"dataframe\">\n",
       "  <thead>\n",
       "    <tr style=\"text-align: right;\">\n",
       "      <th></th>\n",
       "      <th>make_model</th>\n",
       "      <th>make</th>\n",
       "      <th>model</th>\n",
       "      <th>price</th>\n",
       "      <th>body_type</th>\n",
       "      <th>type</th>\n",
       "      <th>warranty</th>\n",
       "      <th>mileage</th>\n",
       "      <th>gearbox</th>\n",
       "      <th>fuel_type</th>\n",
       "      <th>...</th>\n",
       "      <th>non_smoker_vehicle</th>\n",
       "      <th>upholstery</th>\n",
       "      <th>previous_owner</th>\n",
       "      <th>energy_efficiency_class</th>\n",
       "      <th>power_kW</th>\n",
       "      <th>power_hp</th>\n",
       "      <th>fuel_consumption_avg</th>\n",
       "      <th>age</th>\n",
       "      <th>country</th>\n",
       "      <th>multimedia</th>\n",
       "    </tr>\n",
       "  </thead>\n",
       "  <tbody>\n",
       "    <tr>\n",
       "      <th>0</th>\n",
       "      <td>Mercedes-Benz A 160</td>\n",
       "      <td>Mercedes-Benz</td>\n",
       "      <td>A 160</td>\n",
       "      <td>16950.000</td>\n",
       "      <td>Compact</td>\n",
       "      <td>Used</td>\n",
       "      <td>Available</td>\n",
       "      <td>120200.000</td>\n",
       "      <td>Manual</td>\n",
       "      <td>Diesel</td>\n",
       "      <td>...</td>\n",
       "      <td>No</td>\n",
       "      <td>Cloth</td>\n",
       "      <td>2.000</td>\n",
       "      <td>efficient</td>\n",
       "      <td>75.000</td>\n",
       "      <td>102.000</td>\n",
       "      <td>3.800</td>\n",
       "      <td>6.000</td>\n",
       "      <td>Spain</td>\n",
       "      <td>No</td>\n",
       "    </tr>\n",
       "    <tr>\n",
       "      <th>1</th>\n",
       "      <td>Mercedes-Benz EQE 350</td>\n",
       "      <td>Mercedes-Benz</td>\n",
       "      <td>EQE 350</td>\n",
       "      <td>80900.000</td>\n",
       "      <td>Compact</td>\n",
       "      <td>Pre-registered</td>\n",
       "      <td>Available</td>\n",
       "      <td>5000.000</td>\n",
       "      <td>Automatic</td>\n",
       "      <td>Electric</td>\n",
       "      <td>...</td>\n",
       "      <td>No</td>\n",
       "      <td>Part/Full Leather</td>\n",
       "      <td>0.000</td>\n",
       "      <td>efficient</td>\n",
       "      <td>215.000</td>\n",
       "      <td>292.000</td>\n",
       "      <td>5.300</td>\n",
       "      <td>0.000</td>\n",
       "      <td>Spain</td>\n",
       "      <td>Yes</td>\n",
       "    </tr>\n",
       "    <tr>\n",
       "      <th>2</th>\n",
       "      <td>Mercedes-Benz A 45 AMG</td>\n",
       "      <td>Mercedes-Benz</td>\n",
       "      <td>A 45 AMG</td>\n",
       "      <td>69900.000</td>\n",
       "      <td>Compact</td>\n",
       "      <td>Used</td>\n",
       "      <td>Available</td>\n",
       "      <td>18900.000</td>\n",
       "      <td>Automatic</td>\n",
       "      <td>Benzine</td>\n",
       "      <td>...</td>\n",
       "      <td>No</td>\n",
       "      <td>Part/Full Leather</td>\n",
       "      <td>2.000</td>\n",
       "      <td>unefficient</td>\n",
       "      <td>310.000</td>\n",
       "      <td>421.000</td>\n",
       "      <td>8.400</td>\n",
       "      <td>2.000</td>\n",
       "      <td>Spain</td>\n",
       "      <td>No</td>\n",
       "    </tr>\n",
       "    <tr>\n",
       "      <th>3</th>\n",
       "      <td>Mercedes-Benz A 35 AMG</td>\n",
       "      <td>Mercedes-Benz</td>\n",
       "      <td>A 35 AMG</td>\n",
       "      <td>46990.000</td>\n",
       "      <td>Compact</td>\n",
       "      <td>Used</td>\n",
       "      <td>Available</td>\n",
       "      <td>18995.000</td>\n",
       "      <td>Automatic</td>\n",
       "      <td>Benzine</td>\n",
       "      <td>...</td>\n",
       "      <td>No</td>\n",
       "      <td>Part/Full Leather</td>\n",
       "      <td>2.000</td>\n",
       "      <td>unefficient</td>\n",
       "      <td>225.000</td>\n",
       "      <td>306.000</td>\n",
       "      <td>7.300</td>\n",
       "      <td>2.000</td>\n",
       "      <td>Mexico</td>\n",
       "      <td>No</td>\n",
       "    </tr>\n",
       "    <tr>\n",
       "      <th>4</th>\n",
       "      <td>Mercedes-Benz A 45 AMG</td>\n",
       "      <td>Mercedes-Benz</td>\n",
       "      <td>A 45 AMG</td>\n",
       "      <td>16800.000</td>\n",
       "      <td>Compact</td>\n",
       "      <td>Used</td>\n",
       "      <td>Available</td>\n",
       "      <td>197000.000</td>\n",
       "      <td>Automatic</td>\n",
       "      <td>Diesel</td>\n",
       "      <td>...</td>\n",
       "      <td>No</td>\n",
       "      <td>Part/Full Leather</td>\n",
       "      <td>2.000</td>\n",
       "      <td>unefficient</td>\n",
       "      <td>100.000</td>\n",
       "      <td>136.000</td>\n",
       "      <td>4.900</td>\n",
       "      <td>7.000</td>\n",
       "      <td>Spain</td>\n",
       "      <td>No</td>\n",
       "    </tr>\n",
       "    <tr>\n",
       "      <th>...</th>\n",
       "      <td>...</td>\n",
       "      <td>...</td>\n",
       "      <td>...</td>\n",
       "      <td>...</td>\n",
       "      <td>...</td>\n",
       "      <td>...</td>\n",
       "      <td>...</td>\n",
       "      <td>...</td>\n",
       "      <td>...</td>\n",
       "      <td>...</td>\n",
       "      <td>...</td>\n",
       "      <td>...</td>\n",
       "      <td>...</td>\n",
       "      <td>...</td>\n",
       "      <td>...</td>\n",
       "      <td>...</td>\n",
       "      <td>...</td>\n",
       "      <td>...</td>\n",
       "      <td>...</td>\n",
       "      <td>...</td>\n",
       "      <td>...</td>\n",
       "    </tr>\n",
       "    <tr>\n",
       "      <th>24555</th>\n",
       "      <td>Volvo S90</td>\n",
       "      <td>Volvo</td>\n",
       "      <td>S90</td>\n",
       "      <td>37600.000</td>\n",
       "      <td>Sedan</td>\n",
       "      <td>Used</td>\n",
       "      <td>Available</td>\n",
       "      <td>40345.000</td>\n",
       "      <td>Automatic</td>\n",
       "      <td>Electric</td>\n",
       "      <td>...</td>\n",
       "      <td>No</td>\n",
       "      <td>Part/Full Leather</td>\n",
       "      <td>2.000</td>\n",
       "      <td>efficient</td>\n",
       "      <td>288.000</td>\n",
       "      <td>392.000</td>\n",
       "      <td>2.000</td>\n",
       "      <td>3.000</td>\n",
       "      <td>Spain</td>\n",
       "      <td>No</td>\n",
       "    </tr>\n",
       "    <tr>\n",
       "      <th>24556</th>\n",
       "      <td>Volvo S40</td>\n",
       "      <td>Volvo</td>\n",
       "      <td>S40</td>\n",
       "      <td>5499.000</td>\n",
       "      <td>Sedan</td>\n",
       "      <td>Used</td>\n",
       "      <td>Available</td>\n",
       "      <td>145000.000</td>\n",
       "      <td>Automatic</td>\n",
       "      <td>Benzine</td>\n",
       "      <td>...</td>\n",
       "      <td>No</td>\n",
       "      <td>Cloth</td>\n",
       "      <td>3.000</td>\n",
       "      <td>efficient</td>\n",
       "      <td>125.000</td>\n",
       "      <td>170.000</td>\n",
       "      <td>9.100</td>\n",
       "      <td>18.000</td>\n",
       "      <td>Netherlands</td>\n",
       "      <td>No</td>\n",
       "    </tr>\n",
       "    <tr>\n",
       "      <th>24557</th>\n",
       "      <td>Volvo C30</td>\n",
       "      <td>Volvo</td>\n",
       "      <td>C30</td>\n",
       "      <td>7300.000</td>\n",
       "      <td>Sedan</td>\n",
       "      <td>Used</td>\n",
       "      <td>No Warranty</td>\n",
       "      <td>96000.000</td>\n",
       "      <td>Manual</td>\n",
       "      <td>Diesel</td>\n",
       "      <td>...</td>\n",
       "      <td>No</td>\n",
       "      <td>Cloth</td>\n",
       "      <td>1.000</td>\n",
       "      <td>unefficient</td>\n",
       "      <td>84.000</td>\n",
       "      <td>114.000</td>\n",
       "      <td>3.800</td>\n",
       "      <td>11.000</td>\n",
       "      <td>Belgium</td>\n",
       "      <td>No</td>\n",
       "    </tr>\n",
       "    <tr>\n",
       "      <th>24558</th>\n",
       "      <td>Volvo S90</td>\n",
       "      <td>Volvo</td>\n",
       "      <td>S90</td>\n",
       "      <td>29900.000</td>\n",
       "      <td>Sedan</td>\n",
       "      <td>Used</td>\n",
       "      <td>Available</td>\n",
       "      <td>94343.000</td>\n",
       "      <td>Automatic</td>\n",
       "      <td>Benzine</td>\n",
       "      <td>...</td>\n",
       "      <td>No</td>\n",
       "      <td>Part/Full Leather</td>\n",
       "      <td>1.000</td>\n",
       "      <td>efficient</td>\n",
       "      <td>187.000</td>\n",
       "      <td>254.000</td>\n",
       "      <td>6.500</td>\n",
       "      <td>5.000</td>\n",
       "      <td>Netherlands</td>\n",
       "      <td>Yes</td>\n",
       "    </tr>\n",
       "    <tr>\n",
       "      <th>24559</th>\n",
       "      <td>Volvo S80</td>\n",
       "      <td>Volvo</td>\n",
       "      <td>S80</td>\n",
       "      <td>4440.000</td>\n",
       "      <td>Sedan</td>\n",
       "      <td>Used</td>\n",
       "      <td>Available</td>\n",
       "      <td>230047.000</td>\n",
       "      <td>Automatic</td>\n",
       "      <td>Benzine</td>\n",
       "      <td>...</td>\n",
       "      <td>No</td>\n",
       "      <td>Part/Full Leather</td>\n",
       "      <td>5.000</td>\n",
       "      <td>unefficient</td>\n",
       "      <td>147.000</td>\n",
       "      <td>200.000</td>\n",
       "      <td>10.400</td>\n",
       "      <td>20.000</td>\n",
       "      <td>Netherlands</td>\n",
       "      <td>No</td>\n",
       "    </tr>\n",
       "  </tbody>\n",
       "</table>\n",
       "<p>24560 rows × 31 columns</p>\n",
       "</div>"
      ],
      "text/plain": [
       "                   make_model           make       model     price  body_type  \\\n",
       "0         Mercedes-Benz A 160  Mercedes-Benz      A 160  16950.000   Compact    \n",
       "1       Mercedes-Benz EQE 350  Mercedes-Benz    EQE 350  80900.000   Compact    \n",
       "2      Mercedes-Benz A 45 AMG  Mercedes-Benz   A 45 AMG  69900.000   Compact    \n",
       "3      Mercedes-Benz A 35 AMG  Mercedes-Benz   A 35 AMG  46990.000   Compact    \n",
       "4      Mercedes-Benz A 45 AMG  Mercedes-Benz   A 45 AMG  16800.000   Compact    \n",
       "...                       ...            ...         ...       ...        ...   \n",
       "24555               Volvo S90          Volvo        S90  37600.000     Sedan    \n",
       "24556               Volvo S40          Volvo        S40   5499.000     Sedan    \n",
       "24557               Volvo C30          Volvo        C30   7300.000     Sedan    \n",
       "24558               Volvo S90          Volvo        S90  29900.000     Sedan    \n",
       "24559               Volvo S80          Volvo        S80   4440.000     Sedan    \n",
       "\n",
       "                   type     warranty    mileage    gearbox fuel_type  ...  \\\n",
       "0                 Used     Available 120200.000     Manual    Diesel  ...   \n",
       "1       Pre-registered     Available   5000.000  Automatic  Electric  ...   \n",
       "2                 Used     Available  18900.000  Automatic   Benzine  ...   \n",
       "3                 Used     Available  18995.000  Automatic   Benzine  ...   \n",
       "4                 Used     Available 197000.000  Automatic    Diesel  ...   \n",
       "...                 ...          ...        ...        ...       ...  ...   \n",
       "24555             Used     Available  40345.000  Automatic  Electric  ...   \n",
       "24556             Used     Available 145000.000  Automatic   Benzine  ...   \n",
       "24557             Used   No Warranty  96000.000     Manual    Diesel  ...   \n",
       "24558             Used     Available  94343.000  Automatic   Benzine  ...   \n",
       "24559             Used     Available 230047.000  Automatic   Benzine  ...   \n",
       "\n",
       "      non_smoker_vehicle         upholstery  previous_owner  \\\n",
       "0                     No              Cloth           2.000   \n",
       "1                     No  Part/Full Leather           0.000   \n",
       "2                     No  Part/Full Leather           2.000   \n",
       "3                     No  Part/Full Leather           2.000   \n",
       "4                     No  Part/Full Leather           2.000   \n",
       "...                  ...                ...             ...   \n",
       "24555                 No  Part/Full Leather           2.000   \n",
       "24556                 No              Cloth           3.000   \n",
       "24557                 No              Cloth           1.000   \n",
       "24558                 No  Part/Full Leather           1.000   \n",
       "24559                 No  Part/Full Leather           5.000   \n",
       "\n",
       "       energy_efficiency_class power_kW  power_hp  fuel_consumption_avg  \\\n",
       "0                    efficient   75.000   102.000                 3.800   \n",
       "1                    efficient  215.000   292.000                 5.300   \n",
       "2                  unefficient  310.000   421.000                 8.400   \n",
       "3                  unefficient  225.000   306.000                 7.300   \n",
       "4                  unefficient  100.000   136.000                 4.900   \n",
       "...                        ...      ...       ...                   ...   \n",
       "24555                efficient  288.000   392.000                 2.000   \n",
       "24556                efficient  125.000   170.000                 9.100   \n",
       "24557              unefficient   84.000   114.000                 3.800   \n",
       "24558                efficient  187.000   254.000                 6.500   \n",
       "24559              unefficient  147.000   200.000                10.400   \n",
       "\n",
       "         age      country  multimedia  \n",
       "0      6.000        Spain          No  \n",
       "1      0.000        Spain         Yes  \n",
       "2      2.000        Spain          No  \n",
       "3      2.000       Mexico          No  \n",
       "4      7.000        Spain          No  \n",
       "...      ...          ...         ...  \n",
       "24555  3.000        Spain          No  \n",
       "24556 18.000  Netherlands          No  \n",
       "24557 11.000      Belgium          No  \n",
       "24558  5.000  Netherlands         Yes  \n",
       "24559 20.000  Netherlands          No  \n",
       "\n",
       "[24560 rows x 31 columns]"
      ]
     },
     "execution_count": 5,
     "metadata": {},
     "output_type": "execute_result"
    }
   ],
   "source": [
    "df"
   ]
  },
  {
   "cell_type": "code",
   "execution_count": 6,
   "metadata": {},
   "outputs": [
    {
     "data": {
      "text/html": [
       "<div>\n",
       "<style scoped>\n",
       "    .dataframe tbody tr th:only-of-type {\n",
       "        vertical-align: middle;\n",
       "    }\n",
       "\n",
       "    .dataframe tbody tr th {\n",
       "        vertical-align: top;\n",
       "    }\n",
       "\n",
       "    .dataframe thead th {\n",
       "        text-align: right;\n",
       "    }\n",
       "</style>\n",
       "<table border=\"1\" class=\"dataframe\">\n",
       "  <thead>\n",
       "    <tr style=\"text-align: right;\">\n",
       "      <th></th>\n",
       "      <th>make_model</th>\n",
       "      <th>make</th>\n",
       "      <th>model</th>\n",
       "      <th>body_type</th>\n",
       "      <th>type</th>\n",
       "      <th>warranty</th>\n",
       "      <th>gearbox</th>\n",
       "      <th>fuel_type</th>\n",
       "      <th>seller</th>\n",
       "      <th>drivetrain</th>\n",
       "      <th>full_service_history</th>\n",
       "      <th>non_smoker_vehicle</th>\n",
       "      <th>upholstery</th>\n",
       "      <th>energy_efficiency_class</th>\n",
       "      <th>country</th>\n",
       "      <th>multimedia</th>\n",
       "    </tr>\n",
       "  </thead>\n",
       "  <tbody>\n",
       "    <tr>\n",
       "      <th>0</th>\n",
       "      <td>Mercedes-Benz A 160</td>\n",
       "      <td>Mercedes-Benz</td>\n",
       "      <td>A 160</td>\n",
       "      <td>Compact</td>\n",
       "      <td>Used</td>\n",
       "      <td>Available</td>\n",
       "      <td>Manual</td>\n",
       "      <td>Diesel</td>\n",
       "      <td>Dealer</td>\n",
       "      <td>Front</td>\n",
       "      <td>No</td>\n",
       "      <td>No</td>\n",
       "      <td>Cloth</td>\n",
       "      <td>efficient</td>\n",
       "      <td>Spain</td>\n",
       "      <td>No</td>\n",
       "    </tr>\n",
       "    <tr>\n",
       "      <th>1</th>\n",
       "      <td>Mercedes-Benz EQE 350</td>\n",
       "      <td>Mercedes-Benz</td>\n",
       "      <td>EQE 350</td>\n",
       "      <td>Compact</td>\n",
       "      <td>Pre-registered</td>\n",
       "      <td>Available</td>\n",
       "      <td>Automatic</td>\n",
       "      <td>Electric</td>\n",
       "      <td>Dealer</td>\n",
       "      <td>4WD</td>\n",
       "      <td>No</td>\n",
       "      <td>No</td>\n",
       "      <td>Part/Full Leather</td>\n",
       "      <td>efficient</td>\n",
       "      <td>Spain</td>\n",
       "      <td>Yes</td>\n",
       "    </tr>\n",
       "    <tr>\n",
       "      <th>2</th>\n",
       "      <td>Mercedes-Benz A 45 AMG</td>\n",
       "      <td>Mercedes-Benz</td>\n",
       "      <td>A 45 AMG</td>\n",
       "      <td>Compact</td>\n",
       "      <td>Used</td>\n",
       "      <td>Available</td>\n",
       "      <td>Automatic</td>\n",
       "      <td>Benzine</td>\n",
       "      <td>Dealer</td>\n",
       "      <td>4WD</td>\n",
       "      <td>No</td>\n",
       "      <td>No</td>\n",
       "      <td>Part/Full Leather</td>\n",
       "      <td>unefficient</td>\n",
       "      <td>Spain</td>\n",
       "      <td>No</td>\n",
       "    </tr>\n",
       "  </tbody>\n",
       "</table>\n",
       "</div>"
      ],
      "text/plain": [
       "               make_model           make       model  body_type  \\\n",
       "0     Mercedes-Benz A 160  Mercedes-Benz      A 160    Compact    \n",
       "1   Mercedes-Benz EQE 350  Mercedes-Benz    EQE 350    Compact    \n",
       "2  Mercedes-Benz A 45 AMG  Mercedes-Benz   A 45 AMG    Compact    \n",
       "\n",
       "               type   warranty    gearbox fuel_type  seller drivetrain  \\\n",
       "0             Used   Available     Manual    Diesel  Dealer      Front   \n",
       "1   Pre-registered   Available  Automatic  Electric  Dealer        4WD   \n",
       "2             Used   Available  Automatic   Benzine  Dealer        4WD   \n",
       "\n",
       "  full_service_history non_smoker_vehicle         upholstery  \\\n",
       "0                   No                 No              Cloth   \n",
       "1                   No                 No  Part/Full Leather   \n",
       "2                   No                 No  Part/Full Leather   \n",
       "\n",
       "  energy_efficiency_class country multimedia  \n",
       "0               efficient   Spain         No  \n",
       "1               efficient   Spain        Yes  \n",
       "2             unefficient   Spain         No  "
      ]
     },
     "execution_count": 6,
     "metadata": {},
     "output_type": "execute_result"
    }
   ],
   "source": [
    "df.select_dtypes(exclude=[\"number\", \"bool_\"]).head(3)"
   ]
  },
  {
   "attachments": {},
   "cell_type": "markdown",
   "metadata": {},
   "source": [
    "As seen above, there are many categorical features in the dataset such as ``\"make_model\"``, ``\"make\"``, ``\"body_type\"``, ``\"type\"``, ``\"warranty\"``, ``\"gearbox\"``, ``\"fuel_type\"``, ``\"seller\"``, etc. I will be using some of these features and check whether one feature effect other features using several tests i.e ``Z-Test``, ``correlation test``, ``ANOVA test``, and ``Chi-square test``."
   ]
  },
  {
   "attachments": {},
   "cell_type": "markdown",
   "metadata": {},
   "source": [
    "## Let's start with ANOVA:\n",
    "\n",
    "ANOVA stands for Analysis Of Variance. Actually, this test measures if there are any significant differences between the means of the values of the numeric variable for each categorical value. This is something that you can visualize using a box plot as well.\n",
    "\n",
    "I'll measure if there is any correlation between fuel types and car prices. Here **``fuel_type``** is a categorical predictor and **``price``** is the numeric target/label variable."
   ]
  },
  {
   "cell_type": "code",
   "execution_count": 7,
   "metadata": {},
   "outputs": [
    {
     "name": "stdout",
     "output_type": "stream",
     "text": [
      "Null Hypothesis (H0): There is NO correlation between the fuel type of a car and its price.\n",
      "Alternative Hypothesis (H1): There is a correlation between the fuel type of a car and its price.\n",
      "****************************************************************************************************\n",
      "F-Value for Anova is:  157.22522505919187 \n",
      "P-Value for Anova is:  6.077874656380365e-101\n",
      "*********************************************\n",
      "Null hypothesis is rejected in favor of alternative hypothesis.\n",
      "\n",
      "CONCLUSION:\n",
      "There is a statistically sufficient evidence to support the claim that fuel type of a car is a predictor \n",
      "of its price.  F=157.22522505919187, p-value=6.077874656380365e-101\n"
     ]
    }
   ],
   "source": [
    "# f_oneway() function takes the group data as input and returns F-statistic and P-value\n",
    "from scipy.stats import f_oneway\n",
    "\n",
    "print(\"Null Hypothesis (H0): There is NO correlation between the fuel type of a car and its price.\")\n",
    "print(\"Alternative Hypothesis (H1): There is a correlation between the fuel type of a car and its price.\")\n",
    "print(\"*\"*100)\n",
    " \n",
    "# Finds out the price for each fuel_type as a list\n",
    "CategoryGroupLists = df.groupby('fuel_type')['price'].apply(list)\n",
    " \n",
    "# Performing the ANOVA test\n",
    "AnovaResults = f_oneway(*CategoryGroupLists)\n",
    "\n",
    "print('F-Value for Anova is: ', AnovaResults[0], '\\nP-Value for Anova is: ', AnovaResults[1])\n",
    "print(\"*\"*45)\n",
    "\n",
    "# Defining significance level\n",
    "alpha = 0.05\n",
    "\n",
    "if AnovaResults[1] <= alpha:\n",
    "    print(f\"Null hypothesis is rejected in favor of alternative hypothesis.\\n\\nCONCLUSION:\\nThere is a statistically sufficient evidence to support the claim that fuel type of a car is a predictor \\nof its price.  F={AnovaResults[0]}, p-value={AnovaResults[1]}\")\n",
    "else:\n",
    "    print(f\"Null Hypothesis is failed to reject.\\n\\nCONCLUSION:\\nThere is NO statistically sufficient evidence to support the claim that fuel type of a car is a predictor \\nof its price. F={AnovaResults[0]}, p-value={AnovaResults[1]}\")     "
   ]
  },
  {
   "attachments": {},
   "cell_type": "markdown",
   "metadata": {},
   "source": [
    "### Is there a statistically significant difference in prices of car makes?"
   ]
  },
  {
   "cell_type": "code",
   "execution_count": 8,
   "metadata": {},
   "outputs": [
    {
     "data": {
      "text/plain": [
       "array(['Mercedes-Benz', 'Opel', 'Renault', 'Peugeot', 'Fiat', 'SEAT',\n",
       "       'Skoda', 'Dacia', 'Toyota', 'Nissan', 'Ford', 'Hyundai', 'Volvo'],\n",
       "      dtype=object)"
      ]
     },
     "execution_count": 8,
     "metadata": {},
     "output_type": "execute_result"
    }
   ],
   "source": [
    "df.make.unique()"
   ]
  },
  {
   "cell_type": "code",
   "execution_count": 9,
   "metadata": {},
   "outputs": [
    {
     "name": "stdout",
     "output_type": "stream",
     "text": [
      "Null Hypothesis (H0): There is NO correlation between the make of a car and its price.\n",
      "Alternative Hypothesis (H1): There is a correlation between the make of a car and its price.\n"
     ]
    }
   ],
   "source": [
    "# 1st step: Creating the hypothesis\n",
    "print(\"Null Hypothesis (H0): There is NO correlation between the make of a car and its price.\")\n",
    "print(\"Alternative Hypothesis (H1): There is a correlation between the make of a car and its price.\")"
   ]
  },
  {
   "cell_type": "code",
   "execution_count": 10,
   "metadata": {},
   "outputs": [],
   "source": [
    "# 2nd step: Defining the significance level\n",
    "alpha = 0.05"
   ]
  },
  {
   "cell_type": "code",
   "execution_count": 11,
   "metadata": {},
   "outputs": [],
   "source": [
    "# 3rd step: Creating the ANOVA test\n",
    "CategoryGroupLists = df.groupby('make')['price'].apply(list)\n",
    "AnovaResults = f_oneway(*CategoryGroupLists)"
   ]
  },
  {
   "cell_type": "code",
   "execution_count": 12,
   "metadata": {},
   "outputs": [
    {
     "data": {
      "text/plain": [
       "make\n",
       "Dacia            [22985.0, 13900.0, 22985.0, 22985.0, 22985.0, ...\n",
       "Fiat             [28550.0, 12900.0, 20700.0, 20380.0, 24990.0, ...\n",
       "Ford             [14990.0, 14990.0, 10890.0, 17900.0, 10800.0, ...\n",
       "Hyundai          [32400.0, 25985.0, 3500.0, 30990.0, 13500.0, 1...\n",
       "Mercedes-Benz    [16950.0, 80900.0, 69900.0, 46990.0, 16800.0, ...\n",
       "Nissan           [15250.0, 4490.0, 19400.0, 12750.0, 12900.0, 7...\n",
       "Opel             [4980.0, 9999.0, 5980.0, 5480.0, 15749.0, 1590...\n",
       "Peugeot          [19100.0, 28100.0, 3800.0, 1900.0, 34199.0, 15...\n",
       "Renault          [25950.0, 12850.0, 11850.0, 39900.0, 3999.0, 1...\n",
       "SEAT             [30990.0, 7990.0, 8990.0, 11990.0, 14990.0, 52...\n",
       "Skoda            [38300.0, 16990.0, 18990.0, 12890.0, 9500.0, 1...\n",
       "Toyota           [29900.0, 29900.0, 20900.0, 11790.0, 19900.0, ...\n",
       "Volvo            [11590.0, 9900.0, 11350.0, 12990.0, 18990.0, 4...\n",
       "Name: price, dtype: object"
      ]
     },
     "execution_count": 12,
     "metadata": {},
     "output_type": "execute_result"
    }
   ],
   "source": [
    "CategoryGroupLists"
   ]
  },
  {
   "cell_type": "code",
   "execution_count": 13,
   "metadata": {},
   "outputs": [
    {
     "name": "stdout",
     "output_type": "stream",
     "text": [
      "F-Value for Anova is:  424.8641310988463 \n",
      "P-Value for Anova is:  0.0\n",
      "*********************************************\n",
      "Null hypothesis is rejected in favor of alternative hypothesis.\n",
      "\n",
      "CONCLUSION:\n",
      "There is a statistically sufficient evidence to support the claim that make of a car is a predictor \n",
      "of its price.  F=424.8641310988463, p-value=0.0\n"
     ]
    }
   ],
   "source": [
    "# 4th step: Interpreting the results\n",
    "print('F-Value for Anova is: ', AnovaResults[0], '\\nP-Value for Anova is: ', AnovaResults[1])\n",
    "print(\"*\"*45)\n",
    "\n",
    "if AnovaResults[1] <= alpha:\n",
    "    print(f\"Null hypothesis is rejected in favor of alternative hypothesis.\\n\\nCONCLUSION:\\nThere is a statistically sufficient evidence to support the claim that make of a car is a predictor \\nof its price.  F={AnovaResults[0]}, p-value={AnovaResults[1]}\")\n",
    "else:\n",
    "    print(f\"Null Hypothesis is failed to reject.\\n\\nCONCLUSION:\\nThere is NO statistically sufficient evidence to support the claim that make of a car is a predictor \\nof its price. F={AnovaResults[0]}, p-value={AnovaResults[1]}\")"
   ]
  },
  {
   "attachments": {},
   "cell_type": "markdown",
   "metadata": {},
   "source": [
    "## z-test & t-test\n",
    "\n",
    "**``Z-test``** is the statistical test, used to analyze whether two population means are different or not when the variances are known and the sample size is large. This test statistic is assumed to have a normal distribution, and **standard deviation** must be **known** to perform an accurate z-test.\n",
    "\n",
    "A z-statistic, or z-score, is a number representing the value’s relationship to the mean of a group of values, it is measured with population parameters such as population standard deviation and used to validate a hypothesis. For example, the null hypothesis is “sample mean is the same as the population mean”, and alternative hypothesis is “the sample mean  is not the same as the population mean”. Z-test is not prefered to be implemented when the sample size is less than 30.\n",
    "\n",
    "In order to know how significant the difference between two groups are, **``T-test``** is used, basically it tells that difference (measured in means) between two separate groups could have occurred by chance. This test assumes to have a normal distribution while based on t-distribution, and **population parameters such as mean, or standard deviation** are **unknown**.\n",
    "\n",
    "The ratio between the difference between two groups and the difference within the group is known as T-score. Greater is the t-score, more is the difference between groups, and smaller is the t-score, more similarities are there among groups. For example, a t-score value of 2 indicates that the groups are two times as different from each other as they are with each other.\n",
    "\n",
    "**Key Differences between t-test and z-test can be drawn clearly on the following grounds:**\n",
    " - The t-test can be understood as a statistical test which is used to compare and analyse whether the means of the two population is different from one another or not when the standard deviation is not known. As against, Z-test is a parametric test, which is applied when the standard deviation is known, to determine, if the means of the two datasets differ from each other.\n",
    " - The t-test is based on Student’s t-distribution. On the contrary, z-test relies on the assumption that the distribution of sample means is normal. Both student’s t-distribution and normal distribution appear alike, as both are symmetrical and bell-shaped. However, they differ in the sense that in a t-distribution, there is less space in the centre and more in the tails.\n",
    " - One of the important conditions for adopting t-test is that population variance is unknown. Conversely, population variance should be known or assumed to be known in case of a z-test.\n",
    " - Z-test is used to when the sample size is large, i.e. n > 30, and t-test is appropriate when the size of the sample is small, in the sense that n < 30.\n",
    "\n",
    "<img src=https://i.ibb.co/vhms6Jr/parametric-test.png width=\"500\" height=\"250\">\n",
    "\n",
    "References \n",
    "<br>\n",
    "**[What are the Differences Between Z-test and T-test?](https://www.analyticssteps.com/blogs/what-are-differences-between-z-test-and-t-test)**<br>\n",
    "**[Difference Between T-test and Z-test](https://keydifferences.com/difference-between-t-test-and-z-test.html)**<br>\n",
    "**[Statistics for Analytics and Data Science: Hypothesis Testing and Z-Test vs. T-Test](https://www.analyticsvidhya.com/blog/2020/06/statistics-analytics-hypothesis-testing-z-test-t-test/)**<br>\n",
    "**[What Is the Difference Between a T-Test and a Z-Test?](https://knowledgehound.com/data/what-is-the-difference-between-a-t-test-and-a-z-test/)**<br>\n",
    "**[Z-test](https://www.geeksforgeeks.org/z-test/)**<br>\n",
    "**[Feature Selection using Statistical Tests](https://www.analyticsvidhya.com/blog/2021/06/feature-selection-using-statistical-tests/)**"
   ]
  },
  {
   "attachments": {},
   "cell_type": "markdown",
   "metadata": {},
   "source": [
    "### Is there a statistically significant price difference between the Toyota and Nissan cars?"
   ]
  },
  {
   "cell_type": "code",
   "execution_count": 14,
   "metadata": {},
   "outputs": [],
   "source": [
    "# Assumption 1: Normality\n",
    "# Assumption 2: Homogeneity of Variance\n",
    "# Assumption 3: Independence of Errors"
   ]
  },
  {
   "cell_type": "code",
   "execution_count": 15,
   "metadata": {},
   "outputs": [],
   "source": [
    "Toyota = df[df.make == 'Toyota']\n",
    "Nissan = df[df.make == 'Nissan']"
   ]
  },
  {
   "cell_type": "code",
   "execution_count": 16,
   "metadata": {},
   "outputs": [
    {
     "data": {
      "image/png": "[encoded data removed]",
      "text/plain": [
       "<Figure size 864x432 with 2 Axes>"
      ]
     },
     "metadata": {},
     "output_type": "display_data"
    }
   ],
   "source": [
    "# Checking the distribution of the price variable\n",
    "\n",
    "fig, (ax1, ax2) = plt.subplots(1, 2, figsize=(12, 6)) # set the figure size\n",
    "\n",
    "sns.histplot(Toyota.price, kde=True, label='Toyota', ax=ax1) # add ax=ax1 to specify subplot\n",
    "sns.histplot(Nissan.price, kde=True, color='red', ax=ax2) # add ax=ax2 to specify subplot\n",
    "\n",
    "ax1.set_title('Toyota Price Distribution') # set subplot title\n",
    "ax2.set_title('Nissan Price Distribution') # set subplot title\n",
    "\n",
    "plt.show()"
   ]
  },
  {
   "cell_type": "code",
   "execution_count": 17,
   "metadata": {},
   "outputs": [
    {
     "name": "stdout",
     "output_type": "stream",
     "text": [
      "Null Hypothesis (H0): There is NO significant price difference between the Toyata and Nissan cars. (μ1 = μ2)\n",
      "Alternative Hypothesis (H1): There is a significant price difference between the Toyata and Nissan cars. (μ1 ≠ μ2)\n"
     ]
    }
   ],
   "source": [
    "# 1st step: Creating the hypothesis\n",
    "print(\"Null Hypothesis (H0): There is NO significant price difference between the Toyata and Nissan cars. (μ1 = μ2)\")\n",
    "print(\"Alternative Hypothesis (H1): There is a significant price difference between the Toyata and Nissan cars. (μ1 ≠ μ2)\")"
   ]
  },
  {
   "cell_type": "code",
   "execution_count": 18,
   "metadata": {},
   "outputs": [],
   "source": [
    "# 2nd step: Defining the significance level. We will use 0.05 as our significance level. \n",
    "alpha = 0.05"
   ]
  },
  {
   "cell_type": "code",
   "execution_count": 19,
   "metadata": {},
   "outputs": [
    {
     "name": "stdout",
     "output_type": "stream",
     "text": [
      "x1 = 22428.350170261067\n",
      "x2 = 22019.660655737705\n",
      "n1 = 1762\n",
      "n2 = 1830\n",
      "s1 = 14588.310667721564\n",
      "s2 = 22964.40457494665\n"
     ]
    }
   ],
   "source": [
    "# 3rd step: Creating the z test\n",
    "\n",
    "x1 = Toyota.price.mean()\n",
    "print(\"x1 =\",x1)\n",
    "\n",
    "x2 = Nissan.price.mean()\n",
    "print(\"x2 =\",x2)\n",
    "\n",
    "n1 = Toyota.shape[0]\n",
    "print(\"n1 =\",n1)\n",
    "\n",
    "n2 = Nissan.shape[0]\n",
    "print(\"n2 =\",n2)\n",
    "\n",
    "s1 = Toyota.price.std()\n",
    "print(\"s1 =\",s1)\n",
    "\n",
    "s2 = Nissan.price.std()\n",
    "print(\"s2 =\",s2)"
   ]
  },
  {
   "cell_type": "code",
   "execution_count": 20,
   "metadata": {},
   "outputs": [
    {
     "name": "stdout",
     "output_type": "stream",
     "text": [
      "z-score: 0.6391\n",
      "p-value: 0.5228\n",
      "Null Hypothesis is failed to reject.\n",
      "\n",
      "CONCLUSION:\n",
      "There is NO statistically sufficient evidence to support the claim that the price of a Toyota car is different \n",
      "from the price of a Nissan car. z-score=0.6390772258348556, p-value=0.5227726946026057\n"
     ]
    }
   ],
   "source": [
    "# 4th step: Calculating the z-score\n",
    "z_score = (x1 - x2) / np.sqrt(s1**2/n1 + s2**2/n2)\n",
    "print(f\"z-score: {z_score:.4f}\")\n",
    "\n",
    "# 5th step: Calculating the p-value\n",
    "p_value = stats.norm.sf(abs(z_score))*2\n",
    "print(f\"p-value: {p_value:.4f}\")\n",
    "\n",
    "# 6th step: Interpreting the results\n",
    "if p_value < alpha:\n",
    "    print(f\"Null hypothesis is rejected in favor of alternative hypothesis.\\n\\nCONCLUSION:\\nThere is a statistically sufficient evidence to support the claim that the price of a Toyota car is different \\nfrom the price of a Nissan car.  z-score={z_score}, p-value={p_value}\")\n",
    "else:\n",
    "    print(f\"Null Hypothesis is failed to reject.\\n\\nCONCLUSION:\\nThere is NO statistically sufficient evidence to support the claim that the price of a Toyota car is different \\nfrom the price of a Nissan car. z-score={z_score}, p-value={p_value}\")"
   ]
  },
  {
   "attachments": {},
   "cell_type": "markdown",
   "metadata": {},
   "source": [
    "## Mann-Whitney U:\n",
    "\n",
    "Aka Mann Whitney Wilcoxon Test or Wilcoxon Rank Sum Test.\n",
    "\n",
    "Compares differences between two variables when the dependent variable is either ordinal or continuous & not normally distributed.\n",
    "independent variable should consist of two categorical, independent groups."
   ]
  },
  {
   "attachments": {},
   "cell_type": "markdown",
   "metadata": {},
   "source": [
    "### Is there a significant price difference between the cars with and without warranty?"
   ]
  },
  {
   "cell_type": "code",
   "execution_count": 25,
   "metadata": {},
   "outputs": [
    {
     "data": {
      "text/plain": [
       "No Warranty    13466\n",
       "Available      11094\n",
       "Name: warranty, dtype: int64"
      ]
     },
     "execution_count": 25,
     "metadata": {},
     "output_type": "execute_result"
    }
   ],
   "source": [
    "df.warranty.value_counts(dropna=False)"
   ]
  },
  {
   "cell_type": "code",
   "execution_count": 33,
   "metadata": {},
   "outputs": [
    {
     "name": "stdout",
     "output_type": "stream",
     "text": [
      "Null Hypothesis (H0): There is NO significant price difference between the cars with and without warranty.\n",
      "Alternative Hypothesis (H1): There is a significant price difference between the cars with and without warranty.\n",
      "****************************************************************************************************\n",
      "Null hypothesis is rejected in favor of alternative hypothesis.\n",
      "\n",
      "CONCLUSION:\n",
      "There is a statistically sufficient evidence to support the claim that the price of a car with warranty is different \n",
      "from the price of a car without warranty.  U=0.0, p-value=0.0\n"
     ]
    }
   ],
   "source": [
    "# 1st step: Creating the hypothesis\n",
    "print(\"Null Hypothesis (H0): There is NO significant price difference between the cars with and without warranty.\")\n",
    "print(\"Alternative Hypothesis (H1): There is a significant price difference between the cars with and without warranty.\")\n",
    "print(\"*\"*100)\n",
    "\n",
    "# 2nd step: Defining the significance level\n",
    "alpha = 0.05\n",
    "\n",
    "# 3rd step: Creating the Mann-Whitney U test\n",
    "mwu_results = stats.mannwhitneyu(x=df.warranty.map({\"No Warranty\":0, \"Available\":1}), y=df.price,\n",
    "                                    alternative='two-sided')\n",
    "\n",
    "# 4th step: Interpreting the results\n",
    "if mwu_results[1] < alpha:\n",
    "    print(f\"Null hypothesis is rejected in favor of alternative hypothesis.\\n\\nCONCLUSION:\\nThere is a statistically sufficient evidence to support the claim that the price of a car with warranty is different \\nfrom the price of a car without warranty.  U={mwu_results[0]}, p-value={mwu_results[1]}\")\n",
    "else:\n",
    "    print(f\"Null Hypothesis is failed to reject.\\n\\nCONCLUSION:\\nThere is NO statistically sufficient evidence to support the claim that the price of a car with warranty is different \\nfrom the price of a car without warranty. U={mwu_results[0]}, p-value={mwu_results[1]}\")"
   ]
  },
  {
   "attachments": {},
   "cell_type": "markdown",
   "metadata": {},
   "source": [
    "### I'll make the same test with Point-biserial correlation:\n",
    "\n",
    " - It is used to measure the strength and direction of the association\n",
    " - Between continuous & categorical variable"
   ]
  },
  {
   "cell_type": "code",
   "execution_count": 35,
   "metadata": {},
   "outputs": [
    {
     "name": "stdout",
     "output_type": "stream",
     "text": [
      "Null Hypothesis (H0): There is NO association between the price of a car and its warranty.\n",
      "Alternative Hypothesis (H1): There is an association between the price of a car and its warranty.\n",
      "****************************************************************************************************\n",
      "Null hypothesis is rejected in favor of alternative hypothesis.\n",
      "\n",
      "CONCLUSION:\n",
      "There is a statistically sufficient evidence to support the claim that there is an association between the \n",
      "price of a car and whether it has a warranty. r=-0.018577301562185344, p-value=0.003597335006913331\n"
     ]
    }
   ],
   "source": [
    "# 1st step: Creating the hypothesis\n",
    "print(\"Null Hypothesis (H0): There is NO association between the price of a car and its warranty.\")\n",
    "print(\"Alternative Hypothesis (H1): There is an association between the price of a car and its warranty.\")\n",
    "print(\"*\"*100)\n",
    "\n",
    "# 2nd step: Defining the significance level\n",
    "alpha = 0.05\n",
    "\n",
    "# 3rd step: Creating the point-biserial correlation\n",
    "pb_results = stats.pointbiserialr(x=df.warranty.map({\"No Warranty\":0, \"Available\":1}), y=df.price)\n",
    "\n",
    "# 4th step: Interpreting the results\n",
    "if pb_results[1] < alpha:\n",
    "    print(f\"Null hypothesis is rejected in favor of alternative hypothesis.\\n\\nCONCLUSION:\\nThere is a statistically sufficient evidence to support the claim that there is an association between the \\nprice of a car and whether it has a warranty. r={pb_results[0]}, p-value={pb_results[1]}\")\n",
    "else:\n",
    "    print(f\"Null Hypothesis is failed to reject.\\n\\nCONCLUSION:\\n\\nThere is a statistically sufficient evidence to support the claim that there is an association between the \\nprice of a car and whether it has a warranty. r={pb_results[0]}, p-value={pb_results[1]}\")"
   ]
  },
  {
   "attachments": {},
   "cell_type": "markdown",
   "metadata": {},
   "source": [
    "## The Chi-Square Test:\n",
    "\n",
    "The chi-square test is a hypothesis test designed to test for a statistically significant relationship between nominal and ordinal variables organized in a bivariate table. In other words, it tells us whether two variables are independent of one another. so when the target variable and the predictors are categorical, then the strength of the relationship between them can be measured using a Chi-square test.\n",
    "\n",
    "🔥 👉 **SPECIAL NOTE:** Even if my **target variable**, \"price\", is **NOT categorical**, I will test some of other categorical variables in my dataframe to practice Chi-Square Testing for courtesy.\n",
    "\n",
    "<br>\n",
    "\n",
    "References\n",
    "\n",
    "**[A beginner’s guide to Chi-square test in python from scratch](https://analyticsindiamag.com/a-beginners-guide-to-chi-square-test-in-python-from-scratch/)**\n",
    "\n",
    "**[Measure the correlation between numerical and categorical variables and the correlation between two categorical variables in Python: Chi-Square and ANOVA](http://www.sefidian.com/2021/07/02/measure-the-correlation-between-numerical-and-categorical-variables-and-the-correlation-between-two-categorical-variables-in-python-chi-square-and-anova/)**"
   ]
  },
  {
   "attachments": {},
   "cell_type": "markdown",
   "metadata": {},
   "source": [
    "### Is there statistically significant association between 'gearbox' and 'body_type'?"
   ]
  },
  {
   "cell_type": "code",
   "execution_count": 36,
   "metadata": {},
   "outputs": [
    {
     "name": "stdout",
     "output_type": "stream",
     "text": [
      "Null Hypothesis (H0): There is NO statistically significant association between gearbox and body type of a car.\n",
      "Alternative Hypothesis (H1): There is a statistically significant association between gearbox and body type of a car.\n",
      "****************************************************************************************************\n",
      "Null hypothesis is rejected in favor of alternative hypothesis.\n",
      "\n",
      "CONCLUSION:\n",
      "There is a statistically sufficient evidence to support the claim that there is an association between the \n",
      "gearbox and body type of a car. χ2=879.5042979629399, p-value=1.639261573467058e-182\n"
     ]
    }
   ],
   "source": [
    "# 1st step: Creating the hypothesis\n",
    "print(\"Null Hypothesis (H0): There is NO statistically significant association between gearbox and body type of a car.\")\n",
    "print(\"Alternative Hypothesis (H1): There is a statistically significant association between gearbox and body type of a car.\")\n",
    "print(\"*\"*100)\n",
    "\n",
    "# 2nd step: Defining the significance level\n",
    "alpha = 0.05\n",
    "\n",
    "# 3rd step: Creating the chi-square test\n",
    "chi2_results = stats.chi2_contingency(pd.crosstab(df.gearbox, df.body_type))\n",
    "\n",
    "# 4th step: Interpreting the results\n",
    "if chi2_results[1] < alpha:\n",
    "    print(f\"Null hypothesis is rejected in favor of alternative hypothesis.\\n\\nCONCLUSION:\\nThere is a statistically sufficient evidence to support the claim that there is an association between the \\ngearbox and body type of a car. χ2={chi2_results[0]}, p-value={chi2_results[1]}\")\n",
    "else:\n",
    "    print(f\"Null Hypothesis is failed to reject.\\n\\nCONCLUSION:\\nThere is NO statistically sufficient evidence to support the claim that there is an association between the \\ngearbox and body type of a car. χ2={chi2_results[0]}, p-value={chi2_results[1]}\")"
   ]
  },
  {
   "attachments": {},
   "cell_type": "markdown",
   "metadata": {},
   "source": [
    "### Is there statistically significant association between 'warranty' and 'type' of a car?"
   ]
  },
  {
   "cell_type": "code",
   "execution_count": 37,
   "metadata": {},
   "outputs": [
    {
     "data": {
      "text/plain": [
       " Used               21550\n",
       " Demonstration       1310\n",
       " Pre-registered      1181\n",
       " Employees car        519\n",
       "Name: type, dtype: int64"
      ]
     },
     "execution_count": 37,
     "metadata": {},
     "output_type": "execute_result"
    }
   ],
   "source": [
    "df.type.value_counts(dropna=False)"
   ]
  },
  {
   "cell_type": "code",
   "execution_count": 38,
   "metadata": {},
   "outputs": [
    {
     "name": "stdout",
     "output_type": "stream",
     "text": [
      "Null Hypothesis (H0): There is NO statistically significant association between the warranty of a car and its type.\n",
      "Alternative Hypothesis (H1): There is a statistically significant association between the warranty of a car and its type.\n",
      "****************************************************************************************************\n",
      "Null hypothesis is rejected in favor of alternative hypothesis.\n",
      "\n",
      "CONCLUSION:\n",
      "There is a statistically sufficient evidence to support the claim that there is an association between the \n",
      "warranty of a car and its type. χ2=9.407092883715995, p-value=0.024340555803442993\n"
     ]
    }
   ],
   "source": [
    "# 1st step: Creating the hypothesis\n",
    "print(\"Null Hypothesis (H0): There is NO statistically significant association between the warranty of a car and its type.\")\n",
    "print(\"Alternative Hypothesis (H1): There is a statistically significant association between the warranty of a car and its type.\")\n",
    "print(\"*\"*100)\n",
    "\n",
    "# 2nd step: Defining the significance level\n",
    "alpha = 0.05\n",
    "\n",
    "# 3rd step: Creating the chi-square test\n",
    "chi2_results = stats.chi2_contingency(pd.crosstab(df.warranty, df.type))\n",
    "\n",
    "# 4th step: Interpreting the results\n",
    "if chi2_results[1] < alpha:\n",
    "    print(f\"Null hypothesis is rejected in favor of alternative hypothesis.\\n\\nCONCLUSION:\\nThere is a statistically sufficient evidence to support the claim that there is an association between the \\nwarranty of a car and its type. χ2={chi2_results[0]}, p-value={chi2_results[1]}\")\n",
    "else:\n",
    "    print(f\"Null Hypothesis is failed to reject.\\n\\nCONCLUSION:\\nThere is NO statistically sufficient evidence to support the claim that there is an association between the \\nwarranty of a car and its type. χ2={chi2_results[0]}, p-value={chi2_results[1]}\")"
   ]
  },
  {
   "attachments": {},
   "cell_type": "markdown",
   "metadata": {},
   "source": [
    "## Pearson Correlation Coefficient:\n",
    "\n",
    "It is used to measure the linear correlation between 2 variables. Its values lie between -1 and 1.\n",
    "\n",
    "If the value of r is 0, it means there is no relationship between variables X and Y.\n",
    "\n",
    "If the value of r is between 0 and 1, it means there is a positive relation between X and Y, and their strength increases from 0 to 1. Positive relation means if the value of X increases, the value of Y also increases.\n",
    "\n",
    "If the value of r is between -1 and 0, it means there is a negative relation between X and Y, and their strength decreases from -1 to 0. Negative relation means if the value of X increases, the value of Y decreases."
   ]
  },
  {
   "cell_type": "code",
   "execution_count": 39,
   "metadata": {},
   "outputs": [
    {
     "data": {
      "text/plain": [
       "Index(['price', 'mileage', 'engine_size', 'gears', 'co_emissions', 'cylinders',\n",
       "       'num_comfort_convenience', 'num_safety_security', 'num_extras',\n",
       "       'empty_weight', 'previous_owner', 'power_kW', 'power_hp',\n",
       "       'fuel_consumption_avg', 'age'],\n",
       "      dtype='object')"
      ]
     },
     "execution_count": 39,
     "metadata": {},
     "output_type": "execute_result"
    }
   ],
   "source": [
    "df.select_dtypes(include=\"number\").columns"
   ]
  },
  {
   "attachments": {},
   "cell_type": "markdown",
   "metadata": {},
   "source": [
    "### Is there statistically significant association between 'price' and 'mileage'?"
   ]
  },
  {
   "cell_type": "code",
   "execution_count": 41,
   "metadata": {},
   "outputs": [
    {
     "data": {
      "text/html": [
       "<div>\n",
       "<style scoped>\n",
       "    .dataframe tbody tr th:only-of-type {\n",
       "        vertical-align: middle;\n",
       "    }\n",
       "\n",
       "    .dataframe tbody tr th {\n",
       "        vertical-align: top;\n",
       "    }\n",
       "\n",
       "    .dataframe thead th {\n",
       "        text-align: right;\n",
       "    }\n",
       "</style>\n",
       "<table border=\"1\" class=\"dataframe\">\n",
       "  <thead>\n",
       "    <tr style=\"text-align: right;\">\n",
       "      <th></th>\n",
       "      <th>price</th>\n",
       "      <th>mileage</th>\n",
       "    </tr>\n",
       "  </thead>\n",
       "  <tbody>\n",
       "    <tr>\n",
       "      <th>price</th>\n",
       "      <td>1.000</td>\n",
       "      <td>-0.349</td>\n",
       "    </tr>\n",
       "    <tr>\n",
       "      <th>mileage</th>\n",
       "      <td>-0.349</td>\n",
       "      <td>1.000</td>\n",
       "    </tr>\n",
       "  </tbody>\n",
       "</table>\n",
       "</div>"
      ],
      "text/plain": [
       "         price  mileage\n",
       "price    1.000   -0.349\n",
       "mileage -0.349    1.000"
      ]
     },
     "execution_count": 41,
     "metadata": {},
     "output_type": "execute_result"
    }
   ],
   "source": [
    "pearson = df[[\"price\", \"mileage\"]].corr(method=\"pearson\")\n",
    "pearson"
   ]
  },
  {
   "attachments": {},
   "cell_type": "markdown",
   "metadata": {},
   "source": [
    "The value -0.349 suggests that there is some **negative correlation** between the two features."
   ]
  },
  {
   "attachments": {},
   "cell_type": "markdown",
   "metadata": {},
   "source": [
    "### Is there statistically significant association between 'price' and 'age'?"
   ]
  },
  {
   "cell_type": "code",
   "execution_count": 42,
   "metadata": {},
   "outputs": [
    {
     "data": {
      "text/plain": [
       "(-0.3058717706016929, 0.0)"
      ]
     },
     "execution_count": 42,
     "metadata": {},
     "output_type": "execute_result"
    }
   ],
   "source": [
    "stats.pearsonr(x=df.price, y=df.age)"
   ]
  },
  {
   "attachments": {},
   "cell_type": "markdown",
   "metadata": {},
   "source": [
    "The value -0.305... suggests that there is some **negative correlation** between the price of a car and its age."
   ]
  },
  {
   "attachments": {},
   "cell_type": "markdown",
   "metadata": {},
   "source": [
    "# <mark>End of statistical analysis<mark>"
   ]
  }
 ],
 "metadata": {
  "kernelspec": {
   "display_name": "base",
   "language": "python",
   "name": "python3"
  },
  "language_info": {
   "codemirror_mode": {
    "name": "ipython",
    "version": 3
   },
   "file_extension": ".py",
   "mimetype": "text/x-python",
   "name": "python",
   "nbconvert_exporter": "python",
   "pygments_lexer": "ipython3",
   "version": "3.9.12"
  },
  "orig_nbformat": 4
 },
 "nbformat": 4,
 "nbformat_minor": 2
}
